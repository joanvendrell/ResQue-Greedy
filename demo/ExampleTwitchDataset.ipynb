{
 "cells": [
  {
   "cell_type": "markdown",
   "id": "bb468d8b-0a76-425d-b23a-dfbad0c66325",
   "metadata": {},
   "source": [
    "# Reachability Maximization over Twitch Dataset\n",
    "\n",
    "We test ResQue Greedy over Twitch Dataset for reachability maximization over a social network."
   ]
  },
  {
   "cell_type": "code",
   "execution_count": 1,
   "id": "b4a18f35-2c29-4da3-8d54-132774ae8cbf",
   "metadata": {},
   "outputs": [],
   "source": [
    "import os\n",
    "import urllib.request\n",
    "import gzip\n",
    "import time\n",
    "import random\n",
    "import networkx as nx\n",
    "import numpy as np\n",
    "import matplotlib.pyplot as plt\n",
    "import pickle\n",
    "import json\n",
    "import sys\n",
    "import os\n",
    "from scipy.spatial import distance_matrix\n",
    "sys.path.append(os.path.abspath(os.path.join(os.getcwd(), '../')))\n",
    "from auxiliary.Auxiliary import get_combinations, prepare_probabilistic_reachability_sets\n",
    "from auxiliary.InstanceApproximation import OPT_submodular_upper_bound_reachability\n",
    "from auxiliary.LocalSearch import local_search_submodular_maximization_reachability\n",
    "from visualizer.Visualizer import vector_plot\n",
    "from main.ResQueGreedy import greedy_reachability"
   ]
  },
  {
   "cell_type": "code",
   "execution_count": 2,
   "id": "aa7094bb-8ade-42a3-85a4-9aebfb8a63c6",
   "metadata": {},
   "outputs": [],
   "source": [
    "with open(\"../data/data/twitch_graph_ES.pkl\", \"rb\") as f:\n",
    "    G = pickle.load(f)\n",
    "with open(\"../data/data_processed/reachability_twitch.json\", \"r\") as f:\n",
    "    reachability_dict = json.load(f)\n",
    "k = 100; p = 0.1; seed = None; num_workers = 5"
   ]
  },
  {
   "cell_type": "code",
   "execution_count": 3,
   "id": "418ee0b8-823c-43ce-8188-222f8e8c8e04",
   "metadata": {
    "scrolled": true
   },
   "outputs": [
    {
     "name": "stdout",
     "output_type": "stream",
     "text": [
      "Computing the instance approximation...\n"
     ]
    },
    {
     "name": "stderr",
     "output_type": "stream",
     "text": [
      "Computing singletons: 100%|████████████████████████████████████████| 4648/4648 [00:00<00:00, 6764443.09it/s]\n"
     ]
    },
    {
     "name": "stdout",
     "output_type": "stream",
     "text": [
      "Singletons computed!\n"
     ]
    },
    {
     "name": "stderr",
     "output_type": "stream",
     "text": [
      "Processing reachability sets: 100%|████████████████████████████████| 4648/4648 [00:00<00:00, 3440113.82it/s]\n"
     ]
    },
    {
     "name": "stdout",
     "output_type": "stream",
     "text": [
      "Joints computed!\n",
      "The Instance Approximation is 2085.725999999999\n",
      "Total time for 100 selected points: 564.4790258407593\n"
     ]
    }
   ],
   "source": [
    "# Instance Approximation:\n",
    "start_time = time.time()\n",
    "opt = OPT_submodular_upper_bound_reachability(G, reachability_dict, seed, num_workers, k)\n",
    "duration = time.time() - start_time\n",
    "print(f\"The Instance Approximation is {opt}\")\n",
    "print(f\"Total time for {k} selected points: {duration/k}\")"
   ]
  },
  {
   "cell_type": "code",
   "execution_count": 5,
   "id": "faa6b53e-e19c-4f9c-9116-516be7ae2ac6",
   "metadata": {},
   "outputs": [],
   "source": [
    "opt = 2092.4"
   ]
  },
  {
   "cell_type": "code",
   "execution_count": null,
   "id": "027677d1-d2d0-4426-964d-a4393e5255ed",
   "metadata": {
    "scrolled": true
   },
   "outputs": [],
   "source": [
    "# Greedy Algorithm:\n",
    "start_time = time.time()\n",
    "selected_greedy,queries,rewires,set_curvature,uncertainty = greedy_reachability(G, reachability_dict, k)\n",
    "duration = time.time() - start_time\n",
    "print(\"Selected >> \",selected_greedy)\n",
    "reached_targets = prepare_probabilistic_reachability_sets(G, reachability_dict, selected_greedy, seed)\n",
    "print(f\"Total coverage for {k} selected points: {reached_targets}\")\n",
    "print(f\"Total time for {k} selected points: {duration/k}\")\n",
    "print(f\"Total queries for {k} selected points: {queries}\")\n",
    "print(f\"The instance ratio is {reached_targets/opt}\")"
   ]
  },
  {
   "cell_type": "code",
   "execution_count": 4,
   "id": "130b65d0-b479-4360-944e-8d1ddfb2763c",
   "metadata": {},
   "outputs": [],
   "source": [
    "selected_greedy = [12, 27, 823, 172, 596, 240, 3951, 68]"
   ]
  },
  {
   "cell_type": "code",
   "execution_count": null,
   "id": "f6d4507c-a5c6-442f-8349-7f27ce16eab3",
   "metadata": {},
   "outputs": [],
   "source": [
    "# Classical ResQue:\n",
    "start_time = time.time()\n",
    "selected_greedy,queries,rewires,set_curvature,uncertainty = greedy_reachability(G, reachability_dict, k, \"ResQue\", 4, num_workers=num_workers)\n",
    "duration = time.time() - start_time\n",
    "print(\"Selected >> \",selected_greedy)\n",
    "reached_targets = prepare_probabilistic_reachability_sets(G, reachability_dict, selected_greedy, seed)\n",
    "print(f\"Total coverage for {k} selected points: {reached_targets}\")\n",
    "print(f\"Total time for {k} selected points: {duration/k}\")\n",
    "print(f\"Total queries for {k} selected points: {queries}\")\n",
    "print(f\"The instance ratio is {reached_targets/opt}\")"
   ]
  },
  {
   "cell_type": "code",
   "execution_count": null,
   "id": "d461e2be-1ae0-4941-825e-ab8a5621068d",
   "metadata": {
    "scrolled": true
   },
   "outputs": [],
   "source": [
    "# Alan ResQue:\n",
    "start_time = time.time()\n",
    "selected_greedy,queries,rewires,set_curvature,uncertainty = greedy_reachability(G, reachability_dict, k, \"Alan\", 4, num_workers=num_workers, tau=0.8)\n",
    "duration = time.time() - start_time\n",
    "print(\"Selected >> \",selected_greedy)\n",
    "reached_targets = prepare_probabilistic_reachability_sets(G, reachability_dict, selected_greedy, seed)\n",
    "print(f\"Total coverage for {k} selected points: {reached_targets}\")\n",
    "print(f\"Total time for {k} selected points: {duration/k}\")\n",
    "print(f\"Total queries for {k} selected points: {queries}\")\n",
    "print(f\"The instance ratio is {reached_targets/opt}\")"
   ]
  },
  {
   "cell_type": "code",
   "execution_count": null,
   "id": "f0d724d3-03c9-43cd-8a24-9d734c38abb4",
   "metadata": {},
   "outputs": [],
   "source": [
    "# Joan ResQue:\n",
    "start_time = time.time()\n",
    "selected_greedy,queries,rewires,set_curvature,uncertainty = greedy_reachability(G, reachability_dict, k, \"Probabilistic\", 4, num_workers=num_workers)\n",
    "duration = time.time() - start_time\n",
    "print(\"Selected >> \",selected_greedy)\n",
    "reached_targets = prepare_probabilistic_reachability_sets(G, reachability_dict, selected_greedy, seed)\n",
    "print(f\"Total coverage for {k} selected points: {reached_targets}\")\n",
    "print(f\"Total time for {k} selected points: {duration/k}\")\n",
    "print(f\"Total queries for {k} selected points: {queries}\")\n",
    "print(f\"The instance ratio is {reached_targets/opt}\")"
   ]
  },
  {
   "cell_type": "code",
   "execution_count": null,
   "id": "de379f49-4c2a-4220-907a-c4723c243439",
   "metadata": {
    "scrolled": true
   },
   "outputs": [],
   "source": [
    "# Local Search:\n",
    "start_time = time.time()\n",
    "S,f_opt,query_time, results = local_search_submodular_maximization_reachability(G, reachability_dict, k, seed, selected_greedy, 1e-5, 100)\n",
    "duration = time.time() - start_time\n",
    "print(f\"The Local Search is {f_opt}\")\n",
    "print(f\"Total time for {k} selected points: {duration/k} with {query_time} queries.\")\n",
    "print(f\"The instance ratio is {f_opt/opt}\")\n",
    "#print(f\"The result in {queries} queries is {results[queries]}\")\n",
    "#vector_plot(results)\n",
    "results"
   ]
  },
  {
   "cell_type": "code",
   "execution_count": 22,
   "id": "eb229305-a007-4ce6-b68e-7355011bcfd2",
   "metadata": {},
   "outputs": [
    {
     "data": {
      "text/plain": [
       "1446.767000000001"
      ]
     },
     "execution_count": 22,
     "metadata": {},
     "output_type": "execute_result"
    }
   ],
   "source": [
    "max(results[2:50000])"
   ]
  },
  {
   "cell_type": "code",
   "execution_count": 23,
   "id": "0175f3ce-808f-42a3-8eb6-564135310df6",
   "metadata": {},
   "outputs": [
    {
     "data": {
      "text/plain": [
       "1447.7100000000014"
      ]
     },
     "execution_count": 23,
     "metadata": {},
     "output_type": "execute_result"
    }
   ],
   "source": [
    "max(results[2:55000])"
   ]
  }
 ],
 "metadata": {
  "kernelspec": {
   "display_name": "python312-terminal",
   "language": "python",
   "name": "python312-terminal"
  },
  "language_info": {
   "codemirror_mode": {
    "name": "ipython",
    "version": 3
   },
   "file_extension": ".py",
   "mimetype": "text/x-python",
   "name": "python",
   "nbconvert_exporter": "python",
   "pygments_lexer": "ipython3",
   "version": "3.12.6"
  }
 },
 "nbformat": 4,
 "nbformat_minor": 5
}
